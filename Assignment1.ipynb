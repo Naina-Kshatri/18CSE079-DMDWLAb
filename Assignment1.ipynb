{
  "nbformat": 4,
  "nbformat_minor": 0,
  "metadata": {
    "colab": {
      "name": "Assignment1.ipynb",
      "provenance": [],
      "authorship_tag": "ABX9TyPDDASGltwBFqB+klZeTlNJ",
      "include_colab_link": true
    },
    "kernelspec": {
      "name": "python3",
      "display_name": "Python 3"
    }
  },
  "cells": [
    {
      "cell_type": "markdown",
      "metadata": {
        "id": "view-in-github",
        "colab_type": "text"
      },
      "source": [
        "<a href=\"https://colab.research.google.com/github/Naina-Kshatri/18CSE079-DMDWLAb/blob/main/Assignment1.ipynb\" target=\"_parent\"><img src=\"https://colab.research.google.com/assets/colab-badge.svg\" alt=\"Open In Colab\"/></a>"
      ]
    },
    {
      "cell_type": "code",
      "metadata": {
        "id": "ZB-Vz78pHy69"
      },
      "source": [
        ""
      ],
      "execution_count": null,
      "outputs": []
    },
    {
      "cell_type": "markdown",
      "metadata": {
        "id": "xZnG5CA-KGmt"
      },
      "source": [
        "Q.1 Write a python code for finding mean,median and mode with and without using library functions."
      ]
    },
    {
      "cell_type": "code",
      "metadata": {
        "colab": {
          "base_uri": "https://localhost:8080/"
        },
        "id": "GmkLTbuLKbQ5",
        "outputId": "15b724c1-5f18-440f-805c-0753f218b13d"
      },
      "source": [
        "list1=[]\n",
        "n=int(input(\"enter number of elements:\"))\n",
        "for i in range(0,n):\n",
        "  item=int(input())\n",
        "  list1.append(item)\n",
        "\n",
        "#finding mean\n",
        "\n",
        "num_sum = sum(list1)\n",
        "mean = num_sum / len(list1)\n",
        "print(list1)\n",
        "print(\"Mean of list1:\" + str(round(mean,2)))\n",
        "\n",
        "\n",
        "#finding median\n",
        "\n",
        "list1.sort()\n",
        "if len(list1) % 2 == 0:\n",
        "  median1 = list1[len(list1) // 2]\n",
        "  median2 = list1[len(list1) // 2-1]\n",
        "  median = (median1 + median2) / 2\n",
        "else:\n",
        "  median = list1[len(list1) // 2]\n",
        "print(list1)\n",
        "print(\"Median of list1:\" + str(median))\n",
        "\n",
        "\n",
        "#finding mode\n",
        "\n",
        "L1=[]\n",
        "\n",
        "j=0\n",
        "while j < len(list1):\n",
        "  L1.append(list1.count(list1[j]))\n",
        "  j+=1\n",
        "\n",
        "d1 = dict(zip(list1,L1))\n",
        "\n",
        "d2={k for (k,v) in d1.items() if v == max(L1) }\n",
        "\n",
        "print(\"Mode(s) is/are:\" + str(d2))"
      ],
      "execution_count": null,
      "outputs": [
        {
          "output_type": "stream",
          "text": [
            "enter number of elements:6\n",
            "5\n",
            "2\n",
            "1\n",
            "2\n",
            "3\n",
            "2\n",
            "[5, 2, 1, 2, 3, 2]\n",
            "Mean of list1:2.5\n",
            "[1, 2, 2, 2, 3, 5]\n",
            "Median of list1:2.0\n",
            "Mode(s) is/are:{2}\n"
          ],
          "name": "stdout"
        }
      ]
    },
    {
      "cell_type": "markdown",
      "metadata": {
        "id": "VPfoqwaUPG4a"
      },
      "source": [
        "Q.2 Write a python code for calculating variance and standard deviation for the set of elements with or without using library functions.\n",
        "\n"
      ]
    },
    {
      "cell_type": "code",
      "metadata": {
        "colab": {
          "base_uri": "https://localhost:8080/"
        },
        "id": "edmRBOV3Pe5U",
        "outputId": "2f02a8b5-051e-4047-c498-7af927b9f767"
      },
      "source": [
        "list1=[]\n",
        "n=int(input(\"enter nuber of elements:\"))\n",
        "for i in range(0,n):\n",
        "  item=int(input())\n",
        "  list1.append(item)\n",
        "\n",
        "#finding variance\n",
        "\n",
        "ddof=0\n",
        "ddof1=1\n",
        "n = len(list1)\n",
        "mean = sum(list1) / n\n",
        "s1=sum((x - mean) ** 2 for x in list1) / (n - ddof)\n",
        "s2=sum((x - mean) ** 2 for x in list1) / (n - ddof1)\n",
        "print(list1)\n",
        "print(\"Variance:\" ,s1)\n",
        "print(\"Estimation value for variance:\" ,s2)\n",
        "\n",
        "#finding standard deviation\n",
        "\n",
        "var = s1\n",
        "var1 = s2\n",
        "std_dev = (var)**(1/2)\n",
        "estd_dev = (var1)**(1/2)\n",
        "print(\"Standard Deviation:\" ,std_dev)\n",
        "print(\"Estimated value for Standard Devaition:\",estd_dev)"
      ],
      "execution_count": null,
      "outputs": [
        {
          "output_type": "stream",
          "text": [
            "enter nuber of elements:10\n",
            "5\n",
            "6\n",
            "4\n",
            "3\n",
            "8\n",
            "9\n",
            "7\n",
            "2\n",
            "5\n",
            "6\n",
            "[5, 6, 4, 3, 8, 9, 7, 2, 5, 6]\n",
            "Variance: 4.25\n",
            "Estimation value for variance: 4.722222222222222\n",
            "Standard Deviation: 2.0615528128088303\n",
            "Estimated value for Standard Devaition: 2.173067468400883\n"
          ],
          "name": "stdout"
        }
      ]
    },
    {
      "cell_type": "code",
      "metadata": {
        "id": "mdbWxJQePGcR"
      },
      "source": [
        ""
      ],
      "execution_count": null,
      "outputs": []
    },
    {
      "cell_type": "markdown",
      "metadata": {
        "id": "zt0u_btLVEt2"
      },
      "source": [
        "Q.3. Practice some basic python programs with list,tuple,dictionary & string.\n",
        "\n",
        "\n",
        "a)List"
      ]
    },
    {
      "cell_type": "code",
      "metadata": {
        "colab": {
          "base_uri": "https://localhost:8080/"
        },
        "id": "xZ5ByFjhVioB",
        "outputId": "694cdacf-9cef-443c-97d4-137b2bd225ab"
      },
      "source": [
        "def listex():\n",
        "  l1=[1,11,\"Harry\",\"Sara\"]\n",
        "  print(\"length\",len(l1))\n",
        "  l1.append(5)\n",
        "  l2=[6,7,1,99,2,3,10]\n",
        "  l2.sort()\n",
        "  print(\"Sorting:\",l2)\n",
        "  l2.remove(10)\n",
        "  print(\"Remove the element 10:\",l2)\n",
        "  del l1[1]\n",
        "  print(\"Delete 1st index\",l1)\n",
        "  l1.insert(2,22)\n",
        "  print(\"Insert a value at 2nd index\",l1)\n",
        "listex()\n",
        "def listex1():\n",
        "  l11=[1,10,\"Harry\",\"Sara\"]\n",
        "  r1=[]\n",
        "  for j in l11[::-1]:\n",
        "    r1.append(j)\n",
        "  print(r1)\n",
        "  l11.reverse()\n",
        "  print(l11)\n",
        "listex1()\n",
        "def listex2():\n",
        "  l22=[2,5,4,1,7,8,9,3]\n",
        "  l=[]\n",
        "  for k in l22:\n",
        "    if k not in l:\n",
        "      l.append(k)\n",
        "  print(l)\n",
        "listex2()        "
      ],
      "execution_count": null,
      "outputs": [
        {
          "output_type": "stream",
          "text": [
            "length 4\n",
            "Sorting: [1, 2, 3, 6, 7, 10, 99]\n",
            "Remove the element 10: [1, 2, 3, 6, 7, 99]\n",
            "Delete 1st index [1, 'Harry', 'Sara', 5]\n",
            "Insert a value at 2nd index [1, 'Harry', 22, 'Sara', 5]\n",
            "['Sara', 'Harry', 10, 1]\n",
            "['Sara', 'Harry', 10, 1]\n",
            "[2, 5, 4, 1, 7, 8, 9, 3]\n"
          ],
          "name": "stdout"
        }
      ]
    },
    {
      "cell_type": "markdown",
      "metadata": {
        "id": "I9GVOo41YKcB"
      },
      "source": [
        "b)Tuple"
      ]
    },
    {
      "cell_type": "code",
      "metadata": {
        "colab": {
          "base_uri": "https://localhost:8080/"
        },
        "id": "UbEbjULdYNNx",
        "outputId": "8da4509d-2201-4c91-d130-ac4337158b98"
      },
      "source": [
        "def tuplex():\n",
        "  t1=(1,11,\"Rosy\",\"Jake\")\n",
        "  print(\"Elements in t1:\",t1)\n",
        "  t2=(5,10,15,20,25)\n",
        "  t3=t1+t2\n",
        "  print(\"Mrge:\",t3)\n",
        "  print(\"Slice:\",t1[1:3])\n",
        "  print(\"Slice:\",t2[::-1])\n",
        "  print(\"Multiply:\",t1*2)\n",
        "tuplex()"
      ],
      "execution_count": null,
      "outputs": [
        {
          "output_type": "stream",
          "text": [
            "Elements in t1: (1, 11, 'Rosy', 'Jake')\n",
            "Mrge: (1, 11, 'Rosy', 'Jake', 5, 10, 15, 20, 25)\n",
            "Slice: (11, 'Rosy')\n",
            "Slice: (25, 20, 15, 10, 5)\n",
            "Multiply: (1, 11, 'Rosy', 'Jake', 1, 11, 'Rosy', 'Jake')\n"
          ],
          "name": "stdout"
        }
      ]
    },
    {
      "cell_type": "code",
      "metadata": {
        "id": "aFSfzlSEVbCG"
      },
      "source": [
        ""
      ],
      "execution_count": null,
      "outputs": []
    },
    {
      "cell_type": "markdown",
      "metadata": {
        "id": "bkAjNGguZJHm"
      },
      "source": [
        "c)Dictionary"
      ]
    },
    {
      "cell_type": "code",
      "metadata": {
        "colab": {
          "base_uri": "https://localhost:8080/"
        },
        "id": "wwwstZgNZMf_",
        "outputId": "335a1e0a-56a2-4625-9b4a-9277c8d8af9f"
      },
      "source": [
        "def dictex():\n",
        "  d1={1:11,2:22,3:33,5:55,1:15}\n",
        "  print(d1)\n",
        "  print(\"Keys:\",d1.keys())\n",
        "  print(\"Value:\",d1.values())\n",
        "  print(d1[1])\n",
        "\n",
        "dictex()"
      ],
      "execution_count": null,
      "outputs": [
        {
          "output_type": "stream",
          "text": [
            "{1: 15, 2: 22, 3: 33, 5: 55}\n",
            "Keys: dict_keys([1, 2, 3, 5])\n",
            "Value: dict_values([15, 22, 33, 55])\n",
            "15\n"
          ],
          "name": "stdout"
        }
      ]
    },
    {
      "cell_type": "markdown",
      "metadata": {
        "id": "ZSbISz-FZvdM"
      },
      "source": [
        "d)String"
      ]
    },
    {
      "cell_type": "code",
      "metadata": {
        "colab": {
          "base_uri": "https://localhost:8080/"
        },
        "id": "ejMKSZrsZyST",
        "outputId": "aca17b79-6992-4d72-cdd8-a81f06fd83da"
      },
      "source": [
        "print(\"len:\",len(\"Hey\"))\n",
        "print(\"Hey,\"+\"What's up dude\")\n",
        "print(\"Hey\"*4)\n",
        "print('Hey\\\\How')\n",
        "if 's' in \"saniel\":\n",
        "  print(\"True\")\n",
        "else:\n",
        "  print(\"False\")\n",
        "if 'j' in \"Suman\":\n",
        "  print(\"True\")\n",
        "else:\n",
        "  print(\"False\")\n",
        "S=\"satya\"\n",
        "print(S.find('sa'))\n",
        "print(S.find('a'))\n",
        "print(S.find('a',2,4))\n",
        "print(S.find('a',2,3))\n",
        "print(S.index('sa'))\n",
        "print(S.index('t',2,4))\n",
        "s1=\"abcabcab\"\n",
        "s2=s1.replace('a','cd')\n",
        "print(s1,'\\n',s2)\n",
        "print(\"id of s1\",id(s1))\n",
        "print(\"id of s2\",id(s2))\n",
        "s3=\"Hai Bye\"\n",
        "s4=s3.upper()\n",
        "s5=s3.lower()\n",
        "s6=s3.swapcase()\n",
        "s7=s3.title()\n",
        "s8=s3.capitalize()\n",
        "print(s4)\n",
        "print(s5)\n",
        "print(s6)\n",
        "print(s7)\n",
        "print(s8)"
      ],
      "execution_count": null,
      "outputs": [
        {
          "output_type": "stream",
          "text": [
            "len: 3\n",
            "Hey,What's up dude\n",
            "HeyHeyHeyHey\n",
            "Hey\\How\n",
            "True\n",
            "False\n",
            "0\n",
            "1\n",
            "-1\n",
            "-1\n",
            "0\n",
            "2\n",
            "abcabcab \n",
            " cdbccdbccdb\n",
            "id of s1 139862367749424\n",
            "id of s2 139862367748272\n",
            "HAI BYE\n",
            "hai bye\n",
            "hAI bYE\n",
            "Hai Bye\n",
            "Hai bye\n"
          ],
          "name": "stdout"
        }
      ]
    }
  ]
}