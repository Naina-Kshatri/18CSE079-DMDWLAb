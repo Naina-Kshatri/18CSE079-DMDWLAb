{
  "nbformat": 4,
  "nbformat_minor": 0,
  "metadata": {
    "colab": {
      "name": "Assignment2.ipynb",
      "provenance": [],
      "authorship_tag": "ABX9TyMkCI/SFZkQmMLz9ujaOMJL",
      "include_colab_link": true
    },
    "kernelspec": {
      "name": "python3",
      "display_name": "Python 3"
    }
  },
  "cells": [
    {
      "cell_type": "markdown",
      "metadata": {
        "id": "view-in-github",
        "colab_type": "text"
      },
      "source": [
        "<a href=\"https://colab.research.google.com/github/Naina-Kshatri/18CSE079-DMDWLAb/blob/main/Assignment2.ipynb\" target=\"_parent\"><img src=\"https://colab.research.google.com/assets/colab-badge.svg\" alt=\"Open In Colab\"/></a>"
      ]
    },
    {
      "cell_type": "code",
      "metadata": {
        "colab": {
          "base_uri": "https://localhost:8080/",
          "height": 808
        },
        "id": "VQqudEXdft9c",
        "outputId": "17a8e5a9-2343-484b-e787-6b420c842b19"
      },
      "source": [
        "import pandas as pd\n",
        "url=\"https://raw.githubusercontent.com/Naina-Kshatri/18CSE079-DMDWLAb/main/matches.csv\"\n",
        "df=pd.read_csv(url)\n",
        "df"
      ],
      "execution_count": 1,
      "outputs": [
        {
          "output_type": "execute_result",
          "data": {
            "text/html": [
              "<div>\n",
              "<style scoped>\n",
              "    .dataframe tbody tr th:only-of-type {\n",
              "        vertical-align: middle;\n",
              "    }\n",
              "\n",
              "    .dataframe tbody tr th {\n",
              "        vertical-align: top;\n",
              "    }\n",
              "\n",
              "    .dataframe thead th {\n",
              "        text-align: right;\n",
              "    }\n",
              "</style>\n",
              "<table border=\"1\" class=\"dataframe\">\n",
              "  <thead>\n",
              "    <tr style=\"text-align: right;\">\n",
              "      <th></th>\n",
              "      <th>id</th>\n",
              "      <th>Season</th>\n",
              "      <th>city</th>\n",
              "      <th>date</th>\n",
              "      <th>team1</th>\n",
              "      <th>team2</th>\n",
              "      <th>toss_winner</th>\n",
              "      <th>toss_decision</th>\n",
              "      <th>result</th>\n",
              "      <th>dl_applied</th>\n",
              "      <th>winner</th>\n",
              "      <th>win_by_runs</th>\n",
              "      <th>win_by_wickets</th>\n",
              "      <th>player_of_match</th>\n",
              "      <th>venue</th>\n",
              "      <th>umpire1</th>\n",
              "      <th>umpire2</th>\n",
              "      <th>umpire3</th>\n",
              "    </tr>\n",
              "  </thead>\n",
              "  <tbody>\n",
              "    <tr>\n",
              "      <th>0</th>\n",
              "      <td>1</td>\n",
              "      <td>IPL-2017</td>\n",
              "      <td>Hyderabad</td>\n",
              "      <td>05-04-2017</td>\n",
              "      <td>Sunrisers Hyderabad</td>\n",
              "      <td>Royal Challengers Bangalore</td>\n",
              "      <td>Royal Challengers Bangalore</td>\n",
              "      <td>field</td>\n",
              "      <td>normal</td>\n",
              "      <td>0</td>\n",
              "      <td>Sunrisers Hyderabad</td>\n",
              "      <td>35</td>\n",
              "      <td>0</td>\n",
              "      <td>Yuvraj Singh</td>\n",
              "      <td>Rajiv Gandhi International Stadium, Uppal</td>\n",
              "      <td>AY Dandekar</td>\n",
              "      <td>NJ Llong</td>\n",
              "      <td>NaN</td>\n",
              "    </tr>\n",
              "    <tr>\n",
              "      <th>1</th>\n",
              "      <td>2</td>\n",
              "      <td>IPL-2017</td>\n",
              "      <td>Pune</td>\n",
              "      <td>06-04-2017</td>\n",
              "      <td>Mumbai Indians</td>\n",
              "      <td>Rising Pune Supergiant</td>\n",
              "      <td>Rising Pune Supergiant</td>\n",
              "      <td>field</td>\n",
              "      <td>normal</td>\n",
              "      <td>0</td>\n",
              "      <td>Rising Pune Supergiant</td>\n",
              "      <td>0</td>\n",
              "      <td>7</td>\n",
              "      <td>SPD Smith</td>\n",
              "      <td>Maharashtra Cricket Association Stadium</td>\n",
              "      <td>A Nand Kishore</td>\n",
              "      <td>S Ravi</td>\n",
              "      <td>NaN</td>\n",
              "    </tr>\n",
              "    <tr>\n",
              "      <th>2</th>\n",
              "      <td>3</td>\n",
              "      <td>IPL-2017</td>\n",
              "      <td>Rajkot</td>\n",
              "      <td>07-04-2017</td>\n",
              "      <td>Gujarat Lions</td>\n",
              "      <td>Kolkata Knight Riders</td>\n",
              "      <td>Kolkata Knight Riders</td>\n",
              "      <td>field</td>\n",
              "      <td>normal</td>\n",
              "      <td>0</td>\n",
              "      <td>Kolkata Knight Riders</td>\n",
              "      <td>0</td>\n",
              "      <td>10</td>\n",
              "      <td>CA Lynn</td>\n",
              "      <td>Saurashtra Cricket Association Stadium</td>\n",
              "      <td>Nitin Menon</td>\n",
              "      <td>CK Nandan</td>\n",
              "      <td>NaN</td>\n",
              "    </tr>\n",
              "    <tr>\n",
              "      <th>3</th>\n",
              "      <td>4</td>\n",
              "      <td>IPL-2017</td>\n",
              "      <td>Indore</td>\n",
              "      <td>08-04-2017</td>\n",
              "      <td>Rising Pune Supergiant</td>\n",
              "      <td>Kings XI Punjab</td>\n",
              "      <td>Kings XI Punjab</td>\n",
              "      <td>field</td>\n",
              "      <td>normal</td>\n",
              "      <td>0</td>\n",
              "      <td>Kings XI Punjab</td>\n",
              "      <td>0</td>\n",
              "      <td>6</td>\n",
              "      <td>GJ Maxwell</td>\n",
              "      <td>Holkar Cricket Stadium</td>\n",
              "      <td>AK Chaudhary</td>\n",
              "      <td>C Shamshuddin</td>\n",
              "      <td>NaN</td>\n",
              "    </tr>\n",
              "    <tr>\n",
              "      <th>4</th>\n",
              "      <td>5</td>\n",
              "      <td>IPL-2017</td>\n",
              "      <td>Bangalore</td>\n",
              "      <td>08-04-2017</td>\n",
              "      <td>Royal Challengers Bangalore</td>\n",
              "      <td>Delhi Daredevils</td>\n",
              "      <td>Royal Challengers Bangalore</td>\n",
              "      <td>bat</td>\n",
              "      <td>normal</td>\n",
              "      <td>0</td>\n",
              "      <td>Royal Challengers Bangalore</td>\n",
              "      <td>15</td>\n",
              "      <td>0</td>\n",
              "      <td>KM Jadhav</td>\n",
              "      <td>M Chinnaswamy Stadium</td>\n",
              "      <td>NaN</td>\n",
              "      <td>NaN</td>\n",
              "      <td>NaN</td>\n",
              "    </tr>\n",
              "    <tr>\n",
              "      <th>...</th>\n",
              "      <td>...</td>\n",
              "      <td>...</td>\n",
              "      <td>...</td>\n",
              "      <td>...</td>\n",
              "      <td>...</td>\n",
              "      <td>...</td>\n",
              "      <td>...</td>\n",
              "      <td>...</td>\n",
              "      <td>...</td>\n",
              "      <td>...</td>\n",
              "      <td>...</td>\n",
              "      <td>...</td>\n",
              "      <td>...</td>\n",
              "      <td>...</td>\n",
              "      <td>...</td>\n",
              "      <td>...</td>\n",
              "      <td>...</td>\n",
              "      <td>...</td>\n",
              "    </tr>\n",
              "    <tr>\n",
              "      <th>751</th>\n",
              "      <td>11347</td>\n",
              "      <td>IPL-2019</td>\n",
              "      <td>Mumbai</td>\n",
              "      <td>05-05-2019</td>\n",
              "      <td>Kolkata Knight Riders</td>\n",
              "      <td>Mumbai Indians</td>\n",
              "      <td>Mumbai Indians</td>\n",
              "      <td>field</td>\n",
              "      <td>normal</td>\n",
              "      <td>0</td>\n",
              "      <td>Mumbai Indians</td>\n",
              "      <td>0</td>\n",
              "      <td>9</td>\n",
              "      <td>HH Pandya</td>\n",
              "      <td>Wankhede Stadium</td>\n",
              "      <td>Nanda Kishore</td>\n",
              "      <td>O Nandan</td>\n",
              "      <td>S Ravi</td>\n",
              "    </tr>\n",
              "    <tr>\n",
              "      <th>752</th>\n",
              "      <td>11412</td>\n",
              "      <td>IPL-2019</td>\n",
              "      <td>Chennai</td>\n",
              "      <td>07-05-2019</td>\n",
              "      <td>Chennai Super Kings</td>\n",
              "      <td>Mumbai Indians</td>\n",
              "      <td>Chennai Super Kings</td>\n",
              "      <td>bat</td>\n",
              "      <td>normal</td>\n",
              "      <td>0</td>\n",
              "      <td>Mumbai Indians</td>\n",
              "      <td>0</td>\n",
              "      <td>6</td>\n",
              "      <td>AS Yadav</td>\n",
              "      <td>M. A. Chidambaram Stadium</td>\n",
              "      <td>Nigel Llong</td>\n",
              "      <td>Nitin Menon</td>\n",
              "      <td>Ian Gould</td>\n",
              "    </tr>\n",
              "    <tr>\n",
              "      <th>753</th>\n",
              "      <td>11413</td>\n",
              "      <td>IPL-2019</td>\n",
              "      <td>Visakhapatnam</td>\n",
              "      <td>08-05-2019</td>\n",
              "      <td>Sunrisers Hyderabad</td>\n",
              "      <td>Delhi Capitals</td>\n",
              "      <td>Delhi Capitals</td>\n",
              "      <td>field</td>\n",
              "      <td>normal</td>\n",
              "      <td>0</td>\n",
              "      <td>Delhi Capitals</td>\n",
              "      <td>0</td>\n",
              "      <td>2</td>\n",
              "      <td>RR Pant</td>\n",
              "      <td>ACA-VDCA Stadium</td>\n",
              "      <td>NaN</td>\n",
              "      <td>NaN</td>\n",
              "      <td>NaN</td>\n",
              "    </tr>\n",
              "    <tr>\n",
              "      <th>754</th>\n",
              "      <td>11414</td>\n",
              "      <td>IPL-2019</td>\n",
              "      <td>Visakhapatnam</td>\n",
              "      <td>10-05-2019</td>\n",
              "      <td>Delhi Capitals</td>\n",
              "      <td>Chennai Super Kings</td>\n",
              "      <td>Chennai Super Kings</td>\n",
              "      <td>field</td>\n",
              "      <td>normal</td>\n",
              "      <td>0</td>\n",
              "      <td>Chennai Super Kings</td>\n",
              "      <td>0</td>\n",
              "      <td>6</td>\n",
              "      <td>F du Plessis</td>\n",
              "      <td>ACA-VDCA Stadium</td>\n",
              "      <td>Sundaram Ravi</td>\n",
              "      <td>Bruce Oxenford</td>\n",
              "      <td>Chettithody Shamshuddin</td>\n",
              "    </tr>\n",
              "    <tr>\n",
              "      <th>755</th>\n",
              "      <td>11415</td>\n",
              "      <td>IPL-2019</td>\n",
              "      <td>Hyderabad</td>\n",
              "      <td>12-05-2019</td>\n",
              "      <td>Mumbai Indians</td>\n",
              "      <td>Chennai Super Kings</td>\n",
              "      <td>Mumbai Indians</td>\n",
              "      <td>bat</td>\n",
              "      <td>normal</td>\n",
              "      <td>0</td>\n",
              "      <td>Mumbai Indians</td>\n",
              "      <td>1</td>\n",
              "      <td>0</td>\n",
              "      <td>JJ Bumrah</td>\n",
              "      <td>Rajiv Gandhi Intl. Cricket Stadium</td>\n",
              "      <td>Nitin Menon</td>\n",
              "      <td>Ian Gould</td>\n",
              "      <td>Nigel Llong</td>\n",
              "    </tr>\n",
              "  </tbody>\n",
              "</table>\n",
              "<p>756 rows × 18 columns</p>\n",
              "</div>"
            ],
            "text/plain": [
              "        id    Season  ...         umpire2                  umpire3\n",
              "0        1  IPL-2017  ...        NJ Llong                      NaN\n",
              "1        2  IPL-2017  ...          S Ravi                      NaN\n",
              "2        3  IPL-2017  ...       CK Nandan                      NaN\n",
              "3        4  IPL-2017  ...   C Shamshuddin                      NaN\n",
              "4        5  IPL-2017  ...             NaN                      NaN\n",
              "..     ...       ...  ...             ...                      ...\n",
              "751  11347  IPL-2019  ...        O Nandan                   S Ravi\n",
              "752  11412  IPL-2019  ...     Nitin Menon                Ian Gould\n",
              "753  11413  IPL-2019  ...             NaN                      NaN\n",
              "754  11414  IPL-2019  ...  Bruce Oxenford  Chettithody Shamshuddin\n",
              "755  11415  IPL-2019  ...       Ian Gould              Nigel Llong\n",
              "\n",
              "[756 rows x 18 columns]"
            ]
          },
          "metadata": {
            "tags": []
          },
          "execution_count": 1
        }
      ]
    },
    {
      "cell_type": "code",
      "metadata": {
        "colab": {
          "base_uri": "https://localhost:8080/",
          "height": 434
        },
        "id": "M2Z-atKpghuP",
        "outputId": "5a6ffb50-e6d0-4624-9eab-cd12dddd3bad"
      },
      "source": [
        "df.head()"
      ],
      "execution_count": 2,
      "outputs": [
        {
          "output_type": "execute_result",
          "data": {
            "text/html": [
              "<div>\n",
              "<style scoped>\n",
              "    .dataframe tbody tr th:only-of-type {\n",
              "        vertical-align: middle;\n",
              "    }\n",
              "\n",
              "    .dataframe tbody tr th {\n",
              "        vertical-align: top;\n",
              "    }\n",
              "\n",
              "    .dataframe thead th {\n",
              "        text-align: right;\n",
              "    }\n",
              "</style>\n",
              "<table border=\"1\" class=\"dataframe\">\n",
              "  <thead>\n",
              "    <tr style=\"text-align: right;\">\n",
              "      <th></th>\n",
              "      <th>id</th>\n",
              "      <th>Season</th>\n",
              "      <th>city</th>\n",
              "      <th>date</th>\n",
              "      <th>team1</th>\n",
              "      <th>team2</th>\n",
              "      <th>toss_winner</th>\n",
              "      <th>toss_decision</th>\n",
              "      <th>result</th>\n",
              "      <th>dl_applied</th>\n",
              "      <th>winner</th>\n",
              "      <th>win_by_runs</th>\n",
              "      <th>win_by_wickets</th>\n",
              "      <th>player_of_match</th>\n",
              "      <th>venue</th>\n",
              "      <th>umpire1</th>\n",
              "      <th>umpire2</th>\n",
              "      <th>umpire3</th>\n",
              "    </tr>\n",
              "  </thead>\n",
              "  <tbody>\n",
              "    <tr>\n",
              "      <th>0</th>\n",
              "      <td>1</td>\n",
              "      <td>IPL-2017</td>\n",
              "      <td>Hyderabad</td>\n",
              "      <td>05-04-2017</td>\n",
              "      <td>Sunrisers Hyderabad</td>\n",
              "      <td>Royal Challengers Bangalore</td>\n",
              "      <td>Royal Challengers Bangalore</td>\n",
              "      <td>field</td>\n",
              "      <td>normal</td>\n",
              "      <td>0</td>\n",
              "      <td>Sunrisers Hyderabad</td>\n",
              "      <td>35</td>\n",
              "      <td>0</td>\n",
              "      <td>Yuvraj Singh</td>\n",
              "      <td>Rajiv Gandhi International Stadium, Uppal</td>\n",
              "      <td>AY Dandekar</td>\n",
              "      <td>NJ Llong</td>\n",
              "      <td>NaN</td>\n",
              "    </tr>\n",
              "    <tr>\n",
              "      <th>1</th>\n",
              "      <td>2</td>\n",
              "      <td>IPL-2017</td>\n",
              "      <td>Pune</td>\n",
              "      <td>06-04-2017</td>\n",
              "      <td>Mumbai Indians</td>\n",
              "      <td>Rising Pune Supergiant</td>\n",
              "      <td>Rising Pune Supergiant</td>\n",
              "      <td>field</td>\n",
              "      <td>normal</td>\n",
              "      <td>0</td>\n",
              "      <td>Rising Pune Supergiant</td>\n",
              "      <td>0</td>\n",
              "      <td>7</td>\n",
              "      <td>SPD Smith</td>\n",
              "      <td>Maharashtra Cricket Association Stadium</td>\n",
              "      <td>A Nand Kishore</td>\n",
              "      <td>S Ravi</td>\n",
              "      <td>NaN</td>\n",
              "    </tr>\n",
              "    <tr>\n",
              "      <th>2</th>\n",
              "      <td>3</td>\n",
              "      <td>IPL-2017</td>\n",
              "      <td>Rajkot</td>\n",
              "      <td>07-04-2017</td>\n",
              "      <td>Gujarat Lions</td>\n",
              "      <td>Kolkata Knight Riders</td>\n",
              "      <td>Kolkata Knight Riders</td>\n",
              "      <td>field</td>\n",
              "      <td>normal</td>\n",
              "      <td>0</td>\n",
              "      <td>Kolkata Knight Riders</td>\n",
              "      <td>0</td>\n",
              "      <td>10</td>\n",
              "      <td>CA Lynn</td>\n",
              "      <td>Saurashtra Cricket Association Stadium</td>\n",
              "      <td>Nitin Menon</td>\n",
              "      <td>CK Nandan</td>\n",
              "      <td>NaN</td>\n",
              "    </tr>\n",
              "    <tr>\n",
              "      <th>3</th>\n",
              "      <td>4</td>\n",
              "      <td>IPL-2017</td>\n",
              "      <td>Indore</td>\n",
              "      <td>08-04-2017</td>\n",
              "      <td>Rising Pune Supergiant</td>\n",
              "      <td>Kings XI Punjab</td>\n",
              "      <td>Kings XI Punjab</td>\n",
              "      <td>field</td>\n",
              "      <td>normal</td>\n",
              "      <td>0</td>\n",
              "      <td>Kings XI Punjab</td>\n",
              "      <td>0</td>\n",
              "      <td>6</td>\n",
              "      <td>GJ Maxwell</td>\n",
              "      <td>Holkar Cricket Stadium</td>\n",
              "      <td>AK Chaudhary</td>\n",
              "      <td>C Shamshuddin</td>\n",
              "      <td>NaN</td>\n",
              "    </tr>\n",
              "    <tr>\n",
              "      <th>4</th>\n",
              "      <td>5</td>\n",
              "      <td>IPL-2017</td>\n",
              "      <td>Bangalore</td>\n",
              "      <td>08-04-2017</td>\n",
              "      <td>Royal Challengers Bangalore</td>\n",
              "      <td>Delhi Daredevils</td>\n",
              "      <td>Royal Challengers Bangalore</td>\n",
              "      <td>bat</td>\n",
              "      <td>normal</td>\n",
              "      <td>0</td>\n",
              "      <td>Royal Challengers Bangalore</td>\n",
              "      <td>15</td>\n",
              "      <td>0</td>\n",
              "      <td>KM Jadhav</td>\n",
              "      <td>M Chinnaswamy Stadium</td>\n",
              "      <td>NaN</td>\n",
              "      <td>NaN</td>\n",
              "      <td>NaN</td>\n",
              "    </tr>\n",
              "  </tbody>\n",
              "</table>\n",
              "</div>"
            ],
            "text/plain": [
              "   id    Season       city  ...         umpire1        umpire2 umpire3\n",
              "0   1  IPL-2017  Hyderabad  ...     AY Dandekar       NJ Llong     NaN\n",
              "1   2  IPL-2017       Pune  ...  A Nand Kishore         S Ravi     NaN\n",
              "2   3  IPL-2017     Rajkot  ...     Nitin Menon      CK Nandan     NaN\n",
              "3   4  IPL-2017     Indore  ...    AK Chaudhary  C Shamshuddin     NaN\n",
              "4   5  IPL-2017  Bangalore  ...             NaN            NaN     NaN\n",
              "\n",
              "[5 rows x 18 columns]"
            ]
          },
          "metadata": {
            "tags": []
          },
          "execution_count": 2
        }
      ]
    },
    {
      "cell_type": "code",
      "metadata": {
        "colab": {
          "base_uri": "https://localhost:8080/",
          "height": 383
        },
        "id": "QcISWJgigkq4",
        "outputId": "3e47f267-8795-4202-f7be-8b26c4ba0690"
      },
      "source": [
        "df.tail()"
      ],
      "execution_count": 3,
      "outputs": [
        {
          "output_type": "execute_result",
          "data": {
            "text/html": [
              "<div>\n",
              "<style scoped>\n",
              "    .dataframe tbody tr th:only-of-type {\n",
              "        vertical-align: middle;\n",
              "    }\n",
              "\n",
              "    .dataframe tbody tr th {\n",
              "        vertical-align: top;\n",
              "    }\n",
              "\n",
              "    .dataframe thead th {\n",
              "        text-align: right;\n",
              "    }\n",
              "</style>\n",
              "<table border=\"1\" class=\"dataframe\">\n",
              "  <thead>\n",
              "    <tr style=\"text-align: right;\">\n",
              "      <th></th>\n",
              "      <th>id</th>\n",
              "      <th>Season</th>\n",
              "      <th>city</th>\n",
              "      <th>date</th>\n",
              "      <th>team1</th>\n",
              "      <th>team2</th>\n",
              "      <th>toss_winner</th>\n",
              "      <th>toss_decision</th>\n",
              "      <th>result</th>\n",
              "      <th>dl_applied</th>\n",
              "      <th>winner</th>\n",
              "      <th>win_by_runs</th>\n",
              "      <th>win_by_wickets</th>\n",
              "      <th>player_of_match</th>\n",
              "      <th>venue</th>\n",
              "      <th>umpire1</th>\n",
              "      <th>umpire2</th>\n",
              "      <th>umpire3</th>\n",
              "    </tr>\n",
              "  </thead>\n",
              "  <tbody>\n",
              "    <tr>\n",
              "      <th>751</th>\n",
              "      <td>11347</td>\n",
              "      <td>IPL-2019</td>\n",
              "      <td>Mumbai</td>\n",
              "      <td>05-05-2019</td>\n",
              "      <td>Kolkata Knight Riders</td>\n",
              "      <td>Mumbai Indians</td>\n",
              "      <td>Mumbai Indians</td>\n",
              "      <td>field</td>\n",
              "      <td>normal</td>\n",
              "      <td>0</td>\n",
              "      <td>Mumbai Indians</td>\n",
              "      <td>0</td>\n",
              "      <td>9</td>\n",
              "      <td>HH Pandya</td>\n",
              "      <td>Wankhede Stadium</td>\n",
              "      <td>Nanda Kishore</td>\n",
              "      <td>O Nandan</td>\n",
              "      <td>S Ravi</td>\n",
              "    </tr>\n",
              "    <tr>\n",
              "      <th>752</th>\n",
              "      <td>11412</td>\n",
              "      <td>IPL-2019</td>\n",
              "      <td>Chennai</td>\n",
              "      <td>07-05-2019</td>\n",
              "      <td>Chennai Super Kings</td>\n",
              "      <td>Mumbai Indians</td>\n",
              "      <td>Chennai Super Kings</td>\n",
              "      <td>bat</td>\n",
              "      <td>normal</td>\n",
              "      <td>0</td>\n",
              "      <td>Mumbai Indians</td>\n",
              "      <td>0</td>\n",
              "      <td>6</td>\n",
              "      <td>AS Yadav</td>\n",
              "      <td>M. A. Chidambaram Stadium</td>\n",
              "      <td>Nigel Llong</td>\n",
              "      <td>Nitin Menon</td>\n",
              "      <td>Ian Gould</td>\n",
              "    </tr>\n",
              "    <tr>\n",
              "      <th>753</th>\n",
              "      <td>11413</td>\n",
              "      <td>IPL-2019</td>\n",
              "      <td>Visakhapatnam</td>\n",
              "      <td>08-05-2019</td>\n",
              "      <td>Sunrisers Hyderabad</td>\n",
              "      <td>Delhi Capitals</td>\n",
              "      <td>Delhi Capitals</td>\n",
              "      <td>field</td>\n",
              "      <td>normal</td>\n",
              "      <td>0</td>\n",
              "      <td>Delhi Capitals</td>\n",
              "      <td>0</td>\n",
              "      <td>2</td>\n",
              "      <td>RR Pant</td>\n",
              "      <td>ACA-VDCA Stadium</td>\n",
              "      <td>NaN</td>\n",
              "      <td>NaN</td>\n",
              "      <td>NaN</td>\n",
              "    </tr>\n",
              "    <tr>\n",
              "      <th>754</th>\n",
              "      <td>11414</td>\n",
              "      <td>IPL-2019</td>\n",
              "      <td>Visakhapatnam</td>\n",
              "      <td>10-05-2019</td>\n",
              "      <td>Delhi Capitals</td>\n",
              "      <td>Chennai Super Kings</td>\n",
              "      <td>Chennai Super Kings</td>\n",
              "      <td>field</td>\n",
              "      <td>normal</td>\n",
              "      <td>0</td>\n",
              "      <td>Chennai Super Kings</td>\n",
              "      <td>0</td>\n",
              "      <td>6</td>\n",
              "      <td>F du Plessis</td>\n",
              "      <td>ACA-VDCA Stadium</td>\n",
              "      <td>Sundaram Ravi</td>\n",
              "      <td>Bruce Oxenford</td>\n",
              "      <td>Chettithody Shamshuddin</td>\n",
              "    </tr>\n",
              "    <tr>\n",
              "      <th>755</th>\n",
              "      <td>11415</td>\n",
              "      <td>IPL-2019</td>\n",
              "      <td>Hyderabad</td>\n",
              "      <td>12-05-2019</td>\n",
              "      <td>Mumbai Indians</td>\n",
              "      <td>Chennai Super Kings</td>\n",
              "      <td>Mumbai Indians</td>\n",
              "      <td>bat</td>\n",
              "      <td>normal</td>\n",
              "      <td>0</td>\n",
              "      <td>Mumbai Indians</td>\n",
              "      <td>1</td>\n",
              "      <td>0</td>\n",
              "      <td>JJ Bumrah</td>\n",
              "      <td>Rajiv Gandhi Intl. Cricket Stadium</td>\n",
              "      <td>Nitin Menon</td>\n",
              "      <td>Ian Gould</td>\n",
              "      <td>Nigel Llong</td>\n",
              "    </tr>\n",
              "  </tbody>\n",
              "</table>\n",
              "</div>"
            ],
            "text/plain": [
              "        id    Season  ...         umpire2                  umpire3\n",
              "751  11347  IPL-2019  ...        O Nandan                   S Ravi\n",
              "752  11412  IPL-2019  ...     Nitin Menon                Ian Gould\n",
              "753  11413  IPL-2019  ...             NaN                      NaN\n",
              "754  11414  IPL-2019  ...  Bruce Oxenford  Chettithody Shamshuddin\n",
              "755  11415  IPL-2019  ...       Ian Gould              Nigel Llong\n",
              "\n",
              "[5 rows x 18 columns]"
            ]
          },
          "metadata": {
            "tags": []
          },
          "execution_count": 3
        }
      ]
    },
    {
      "cell_type": "markdown",
      "metadata": {
        "id": "0wujSKxSgwrt"
      },
      "source": [
        "2.Practice 10 python programs using numpy libraries"
      ]
    },
    {
      "cell_type": "code",
      "metadata": {
        "colab": {
          "base_uri": "https://localhost:8080/"
        },
        "id": "W2dLeAjegxwh",
        "outputId": "d65e3a36-3c97-43a4-a03b-1fa805b6bb12"
      },
      "source": [
        "#1.Program to create a 5x5 identity matrix, i.e. diagonal elements are 1, the rest are 0.\n",
        "import numpy as np\n",
        "x = np.eye(5,dtype=int)\n",
        "print(\"x =\\n\",x)"
      ],
      "execution_count": 4,
      "outputs": [
        {
          "output_type": "stream",
          "text": [
            "x =\n",
            " [[1 0 0 0 0]\n",
            " [0 1 0 0 0]\n",
            " [0 0 1 0 0]\n",
            " [0 0 0 1 0]\n",
            " [0 0 0 0 1]]\n"
          ],
          "name": "stdout"
        }
      ]
    },
    {
      "cell_type": "code",
      "metadata": {
        "colab": {
          "base_uri": "https://localhost:8080/"
        },
        "id": "eQo4vpcSg5Lo",
        "outputId": "c30b6056-addc-41ec-a47d-5b1b9238e793"
      },
      "source": [
        "#2.Program to convert a given array into a list and then convert it into a list again.\n",
        "import numpy as np\n",
        "a = [[1, 2], [3, 4]]\n",
        "x = np.array(a)\n",
        "print(\"list to array:\\n\",x)\n",
        "a2 = x.tolist()\n",
        "print(\"array to list:\\n\",a2)\n",
        "print(a == a2)"
      ],
      "execution_count": 5,
      "outputs": [
        {
          "output_type": "stream",
          "text": [
            "list to array:\n",
            " [[1 2]\n",
            " [3 4]]\n",
            "array to list:\n",
            " [[1, 2], [3, 4]]\n",
            "True\n"
          ],
          "name": "stdout"
        }
      ]
    },
    {
      "cell_type": "code",
      "metadata": {
        "colab": {
          "base_uri": "https://localhost:8080/"
        },
        "id": "Su8XkgZnhCsK",
        "outputId": "97723bbb-907b-45bc-8271-539bc111dd53"
      },
      "source": [
        "#3.Program to convert the Fahrenheit degree values into Centigrade degrees. Fahrenheit values are stored into a NumPy array.\n",
        "import numpy as np\n",
        "N=int(input())# not more than N inputs will be considered\n",
        "fvalues=list(map(float, input().split(' ')[:N]))\n",
        "F = np.array(fvalues)\n",
        "print(\"Values in Fahrenheit degrees:\")\n",
        "print(F)\n",
        "print(\"Values in  Centigrade degrees:\") \n",
        "print(5*F/9 - 5*32/9)\n"
      ],
      "execution_count": 6,
      "outputs": [
        {
          "output_type": "stream",
          "text": [
            "5\n",
            "2\n",
            "Values in Fahrenheit degrees:\n",
            "[2.]\n",
            "Values in  Centigrade degrees:\n",
            "[-16.66666667]\n"
          ],
          "name": "stdout"
        }
      ]
    },
    {
      "cell_type": "code",
      "metadata": {
        "colab": {
          "base_uri": "https://localhost:8080/"
        },
        "id": "e6W8o-b7hOP2",
        "outputId": "95ce8341-5352-4cdd-ca45-8fa3ef4386d3"
      },
      "source": [
        "#4.Program to compute the determinant of a given square array.\n",
        "import numpy as np\n",
        "from numpy import linalg as la  \n",
        "R = int(input(\"Enter the number of rows:\")) \n",
        "C = int(input(\"Enter the number of columns:\"))   \n",
        "\n",
        "if R==C:\n",
        "  print(\"Enter the entries in a single line (separated by space): \") \n",
        "  entries = list(map(int, input().split()))   \n",
        "  matrix = np.array(entries).reshape(R, C) \n",
        "  print(\"Original \",R,\"x\",C,\"-D matrix\")\n",
        "  print(matrix)\n",
        "  print(\"Determinant of the said \",R,\"x\",C,\"-D matrix\")\n",
        "  print(np.linalg.det(matrix))\n",
        "else:\n",
        "  print(\"Invalid Dimensional Array Input\")"
      ],
      "execution_count": 8,
      "outputs": [
        {
          "output_type": "stream",
          "text": [
            "Enter the number of rows:3\n",
            "Enter the number of columns:5\n",
            "Invalid Dimensional Array Input\n"
          ],
          "name": "stdout"
        }
      ]
    },
    {
      "cell_type": "code",
      "metadata": {
        "colab": {
          "base_uri": "https://localhost:8080/"
        },
        "id": "O0F0Owbhhn0L",
        "outputId": "03d96067-2067-4f06-f5b2-dd94212bb37c"
      },
      "source": [
        "#5.Program to create a 5x5 array with random values and find the minimum and maximum values.\n",
        "import numpy as np\n",
        "x = np.random.random((5,5))\n",
        "print(\"Original Array:\")\n",
        "print(x) \n",
        "xmin, xmax = x.min(), x.max()\n",
        "print(\"Minimum and Maximum Values:\")\n",
        "print(xmin, xmax)"
      ],
      "execution_count": 9,
      "outputs": [
        {
          "output_type": "stream",
          "text": [
            "Original Array:\n",
            "[[0.73234698 0.4260183  0.38624531 0.25624706 0.46458459]\n",
            " [0.17746307 0.72842867 0.13805562 0.82224629 0.66990126]\n",
            " [0.38141019 0.86620787 0.44498535 0.90475896 0.84214925]\n",
            " [0.70270186 0.60165053 0.77638188 0.17206635 0.64210777]\n",
            " [0.34870021 0.67643189 0.92408102 0.69122747 0.84389768]]\n",
            "Minimum and Maximum Values:\n",
            "0.13805561883813433 0.9240810152446054\n"
          ],
          "name": "stdout"
        }
      ]
    },
    {
      "cell_type": "code",
      "metadata": {
        "colab": {
          "base_uri": "https://localhost:8080/"
        },
        "id": "nOq0TPjEhsj_",
        "outputId": "95a13a1c-894e-4fda-f2cd-aeb3a2254346"
      },
      "source": [
        "\n",
        "#6.Program to sort the specified number of elements from beginning of a given array.\n",
        "import numpy as np\n",
        "nums =  np.random.rand(15)\n",
        "print(\"Original array:\")\n",
        "print(nums)\n",
        "print(\"\\nSorted first 5 elements:\")\n",
        "print(nums[np.argpartition(nums,range(8))])"
      ],
      "execution_count": 10,
      "outputs": [
        {
          "output_type": "stream",
          "text": [
            "Original array:\n",
            "[0.72202827 0.03696592 0.74706112 0.36915909 0.80241228 0.45934377\n",
            " 0.95259916 0.575037   0.3986041  0.1661261  0.13736353 0.98861855\n",
            " 0.53205186 0.62632495 0.81749463]\n",
            "\n",
            "Sorted first 5 elements:\n",
            "[0.03696592 0.13736353 0.1661261  0.36915909 0.3986041  0.45934377\n",
            " 0.53205186 0.575037   0.80241228 0.74706112 0.72202827 0.98861855\n",
            " 0.95259916 0.62632495 0.81749463]\n"
          ],
          "name": "stdout"
        }
      ]
    },
    {
      "cell_type": "code",
      "metadata": {
        "colab": {
          "base_uri": "https://localhost:8080/"
        },
        "id": "WUucKLOKhz29",
        "outputId": "664721b1-f55f-4596-d719-7b5e05169998"
      },
      "source": [
        "#7.Program to calculate cumulative sum of the elements along a given axis, sum over rows for each of the 3 columns and sum over columns for each of the 2 rows of a given 3x3 array.\n",
        "import numpy as np\n",
        "x = np.array([[1,2,3], [4,5,6]])\n",
        "print(\"Original array: \")\n",
        "print(x)\n",
        "print(\"Cumulative sum of the elements along a given axis:\")\n",
        "r = np.cumsum(x)\n",
        "print(r)\n",
        "print(\"\\nSum over rows for each of the 3 columns:\")\n",
        "r = np.cumsum(x,axis=0) \n",
        "print(r)\n",
        "print(\"\\nSum over columns for each of the 2 rows:\")\n",
        "r = np.cumsum(x,axis=1) \n",
        "print(r)"
      ],
      "execution_count": 11,
      "outputs": [
        {
          "output_type": "stream",
          "text": [
            "Original array: \n",
            "[[1 2 3]\n",
            " [4 5 6]]\n",
            "Cumulative sum of the elements along a given axis:\n",
            "[ 1  3  6 10 15 21]\n",
            "\n",
            "Sum over rows for each of the 3 columns:\n",
            "[[1 2 3]\n",
            " [5 7 9]]\n",
            "\n",
            "Sum over columns for each of the 2 rows:\n",
            "[[ 1  3  6]\n",
            " [ 4  9 15]]\n"
          ],
          "name": "stdout"
        }
      ]
    },
    {
      "cell_type": "code",
      "metadata": {
        "colab": {
          "base_uri": "https://localhost:8080/"
        },
        "id": "kA0N-kxPh7j3",
        "outputId": "a6ad0e5a-f7c4-467a-8c7a-3bf2ac43fe45"
      },
      "source": [
        "#8.Program to test element-wise of a given array for finiteness (not infinity or not Not a Number), positive or negative infinity, for NaN, for NaT (not a time), for negative infinity, for positive infinity.\n",
        "import numpy as np\n",
        "print(\"\\nTest element-wise for finiteness (not infinity or not Not a Number):\")\n",
        "print(np.isfinite(1))\n",
        "print(np.isfinite(0))\n",
        "print(np.isfinite(np.nan))\n",
        "print(\"\\nTest element-wise for positive or negative infinity:\")\n",
        "print(np.isinf(np.inf))\n",
        "print(np.isinf(np.nan))\n",
        "print(np.isinf(np.NINF))\n",
        "print(\"Test element-wise for NaN:\")\n",
        "print(np.isnan([np.log(-1.),1.,np.log(0)]))\n",
        "print(\"Test element-wise for NaT (not a time):\")\n",
        "print(np.isnat(np.array([\"NaT\", \"2016-01-01\"], dtype=\"datetime64[ns]\")))\n",
        "print(\"Test element-wise for negative infinity:\")\n",
        "x = np.array([-np.inf, 0., np.inf])\n",
        "y = np.array([2, 2, 2])\n",
        "print(np.isneginf(x, y))\n",
        "print(\"Test element-wise for positive infinity:\")\n",
        "x = np.array([-np.inf, 0., np.inf])\n",
        "y = np.array([2, 2, 2])\n",
        "print(np.isposinf(x, y))"
      ],
      "execution_count": 12,
      "outputs": [
        {
          "output_type": "stream",
          "text": [
            "\n",
            "Test element-wise for finiteness (not infinity or not Not a Number):\n",
            "True\n",
            "True\n",
            "False\n",
            "\n",
            "Test element-wise for positive or negative infinity:\n",
            "True\n",
            "False\n",
            "True\n",
            "Test element-wise for NaN:\n",
            "[ True False False]\n",
            "Test element-wise for NaT (not a time):\n",
            "[ True False]\n",
            "Test element-wise for negative infinity:\n",
            "[1 0 0]\n",
            "Test element-wise for positive infinity:\n",
            "[0 0 1]\n"
          ],
          "name": "stdout"
        },
        {
          "output_type": "stream",
          "text": [
            "/usr/local/lib/python3.6/dist-packages/ipykernel_launcher.py:12: RuntimeWarning: invalid value encountered in log\n",
            "  if sys.path[0] == '':\n",
            "/usr/local/lib/python3.6/dist-packages/ipykernel_launcher.py:12: RuntimeWarning: divide by zero encountered in log\n",
            "  if sys.path[0] == '':\n"
          ],
          "name": "stderr"
        }
      ]
    },
    {
      "cell_type": "code",
      "metadata": {
        "colab": {
          "base_uri": "https://localhost:8080/"
        },
        "id": "Wya8s1HjiFix",
        "outputId": "aad77fe0-fe67-4703-cd9d-6301314e1d8b"
      },
      "source": [
        "#9.Program to get the dates of yesterday, today and tomorrow.\n",
        "import numpy as np\n",
        "yesterday = np.datetime64('today', 'D') - np.timedelta64(1, 'D')\n",
        "print(\"Yestraday: \",yesterday)\n",
        "today     = np.datetime64('today', 'D')\n",
        "print(\"Today: \",today)\n",
        "tomorrow  = np.datetime64('today', 'D') + np.timedelta64(1, 'D')\n",
        "print(\"Tomorrow: \",tomorrow)"
      ],
      "execution_count": 13,
      "outputs": [
        {
          "output_type": "stream",
          "text": [
            "Yestraday:  2020-11-21\n",
            "Today:  2020-11-22\n",
            "Tomorrow:  2020-11-23\n"
          ],
          "name": "stdout"
        }
      ]
    },
    {
      "cell_type": "code",
      "metadata": {
        "colab": {
          "base_uri": "https://localhost:8080/"
        },
        "id": "hqFl2zKaiLFm",
        "outputId": "86e2ff4e-ae77-4bf4-c8ba-c062a635d7d9"
      },
      "source": [
        "#10.Write a NumPy program to remove the leading and trailing whitespaces of all the elements of a given array.\n",
        "import numpy as np\n",
        "x = np.array([' python exercises ', ' PHP  ', ' java  ', '  C++'], dtype=np.str)\n",
        "print(\"Original Array:\")\n",
        "print(x)\n",
        "stripped = np.char.strip(x)\n",
        "print(\"\\nRemove the leading and trailing whitespaces: \", stripped)"
      ],
      "execution_count": 14,
      "outputs": [
        {
          "output_type": "stream",
          "text": [
            "Original Array:\n",
            "[' python exercises ' ' PHP  ' ' java  ' '  C++']\n",
            "\n",
            "Remove the leading and trailing whitespaces:  ['python exercises' 'PHP' 'java' 'C++']\n"
          ],
          "name": "stdout"
        }
      ]
    },
    {
      "cell_type": "markdown",
      "metadata": {
        "id": "NKMKb_m_iUCP"
      },
      "source": [
        "\n",
        "3.Practice 10 python programs using pandas libraries."
      ]
    },
    {
      "cell_type": "code",
      "metadata": {
        "colab": {
          "base_uri": "https://localhost:8080/",
          "height": 474
        },
        "id": "vMQXLK3GiVZe",
        "outputId": "76de8ffe-be6c-4d2d-f1ea-ec62d44097f5"
      },
      "source": [
        "\n",
        "#1.Create a dataframe of ten rows, four columns with random values. Write a Pandas program to display bar charts in dataframe on specified columns.\n",
        "import pandas as pd\n",
        "import numpy as np\n",
        "np.random.seed(24)\n",
        "df = pd.DataFrame({'A': np.linspace(1, 10, 10)})\n",
        "df = pd.concat([df, pd.DataFrame(np.random.randn(10, 4), columns=list('BCDE'))],\n",
        "               axis=1)\n",
        "df.iloc[0, 2] = np.nan\n",
        "df.iloc[3, 3] = np.nan\n",
        "df.iloc[4, 1] = np.nan\n",
        "df.iloc[9, 4] = np.nan\n",
        "print(\"Original array:\")\n",
        "print(df)\n",
        "print(\"\\nBar charts in dataframe:\")\n",
        "df.style.bar(subset=['B', 'C'], color='#d65f5f')\n"
      ],
      "execution_count": 15,
      "outputs": [
        {
          "output_type": "stream",
          "text": [
            "Original array:\n",
            "      A         B         C         D         E\n",
            "0   1.0  1.329212       NaN -0.316280 -0.990810\n",
            "1   2.0 -1.070816 -1.438713  0.564417  0.295722\n",
            "2   3.0 -1.626404  0.219565  0.678805  1.889273\n",
            "3   4.0  0.961538  0.104011       NaN  0.850229\n",
            "4   5.0       NaN  1.057737  0.165562  0.515018\n",
            "5   6.0 -1.336936  0.562861  1.392855 -0.063328\n",
            "6   7.0  0.121668  1.207603 -0.002040  1.627796\n",
            "7   8.0  0.354493  1.037528 -0.385684  0.519818\n",
            "8   9.0  1.686583 -1.325963  1.428984 -2.089354\n",
            "9  10.0 -0.129820  0.631523 -0.586538       NaN\n",
            "\n",
            "Bar charts in dataframe:\n"
          ],
          "name": "stdout"
        },
        {
          "output_type": "execute_result",
          "data": {
            "text/html": [
              "<style  type=\"text/css\" >\n",
              "#T_fb55ca34_2c87_11eb_a68a_0242ac1c0002row0_col1{\n",
              "            width:  10em;\n",
              "             height:  80%;\n",
              "            background:  linear-gradient(90deg,#d65f5f 89.2%, transparent 89.2%);\n",
              "        }#T_fb55ca34_2c87_11eb_a68a_0242ac1c0002row1_col1{\n",
              "            width:  10em;\n",
              "             height:  80%;\n",
              "            background:  linear-gradient(90deg,#d65f5f 16.8%, transparent 16.8%);\n",
              "        }#T_fb55ca34_2c87_11eb_a68a_0242ac1c0002row1_col2,#T_fb55ca34_2c87_11eb_a68a_0242ac1c0002row2_col1{\n",
              "            width:  10em;\n",
              "             height:  80%;\n",
              "        }#T_fb55ca34_2c87_11eb_a68a_0242ac1c0002row2_col2{\n",
              "            width:  10em;\n",
              "             height:  80%;\n",
              "            background:  linear-gradient(90deg,#d65f5f 62.7%, transparent 62.7%);\n",
              "        }#T_fb55ca34_2c87_11eb_a68a_0242ac1c0002row3_col1{\n",
              "            width:  10em;\n",
              "             height:  80%;\n",
              "            background:  linear-gradient(90deg,#d65f5f 78.1%, transparent 78.1%);\n",
              "        }#T_fb55ca34_2c87_11eb_a68a_0242ac1c0002row3_col2{\n",
              "            width:  10em;\n",
              "             height:  80%;\n",
              "            background:  linear-gradient(90deg,#d65f5f 58.3%, transparent 58.3%);\n",
              "        }#T_fb55ca34_2c87_11eb_a68a_0242ac1c0002row4_col2{\n",
              "            width:  10em;\n",
              "             height:  80%;\n",
              "            background:  linear-gradient(90deg,#d65f5f 94.3%, transparent 94.3%);\n",
              "        }#T_fb55ca34_2c87_11eb_a68a_0242ac1c0002row5_col1{\n",
              "            width:  10em;\n",
              "             height:  80%;\n",
              "            background:  linear-gradient(90deg,#d65f5f 8.7%, transparent 8.7%);\n",
              "        }#T_fb55ca34_2c87_11eb_a68a_0242ac1c0002row5_col2{\n",
              "            width:  10em;\n",
              "             height:  80%;\n",
              "            background:  linear-gradient(90deg,#d65f5f 75.6%, transparent 75.6%);\n",
              "        }#T_fb55ca34_2c87_11eb_a68a_0242ac1c0002row6_col1{\n",
              "            width:  10em;\n",
              "             height:  80%;\n",
              "            background:  linear-gradient(90deg,#d65f5f 52.8%, transparent 52.8%);\n",
              "        }#T_fb55ca34_2c87_11eb_a68a_0242ac1c0002row6_col2,#T_fb55ca34_2c87_11eb_a68a_0242ac1c0002row8_col1{\n",
              "            width:  10em;\n",
              "             height:  80%;\n",
              "            background:  linear-gradient(90deg,#d65f5f 100.0%, transparent 100.0%);\n",
              "        }#T_fb55ca34_2c87_11eb_a68a_0242ac1c0002row7_col1{\n",
              "            width:  10em;\n",
              "             height:  80%;\n",
              "            background:  linear-gradient(90deg,#d65f5f 59.8%, transparent 59.8%);\n",
              "        }#T_fb55ca34_2c87_11eb_a68a_0242ac1c0002row7_col2{\n",
              "            width:  10em;\n",
              "             height:  80%;\n",
              "            background:  linear-gradient(90deg,#d65f5f 93.6%, transparent 93.6%);\n",
              "        }#T_fb55ca34_2c87_11eb_a68a_0242ac1c0002row8_col2{\n",
              "            width:  10em;\n",
              "             height:  80%;\n",
              "            background:  linear-gradient(90deg,#d65f5f 4.3%, transparent 4.3%);\n",
              "        }#T_fb55ca34_2c87_11eb_a68a_0242ac1c0002row9_col1{\n",
              "            width:  10em;\n",
              "             height:  80%;\n",
              "            background:  linear-gradient(90deg,#d65f5f 45.2%, transparent 45.2%);\n",
              "        }#T_fb55ca34_2c87_11eb_a68a_0242ac1c0002row9_col2{\n",
              "            width:  10em;\n",
              "             height:  80%;\n",
              "            background:  linear-gradient(90deg,#d65f5f 78.2%, transparent 78.2%);\n",
              "        }</style><table id=\"T_fb55ca34_2c87_11eb_a68a_0242ac1c0002\" ><thead>    <tr>        <th class=\"blank level0\" ></th>        <th class=\"col_heading level0 col0\" >A</th>        <th class=\"col_heading level0 col1\" >B</th>        <th class=\"col_heading level0 col2\" >C</th>        <th class=\"col_heading level0 col3\" >D</th>        <th class=\"col_heading level0 col4\" >E</th>    </tr></thead><tbody>\n",
              "                <tr>\n",
              "                        <th id=\"T_fb55ca34_2c87_11eb_a68a_0242ac1c0002level0_row0\" class=\"row_heading level0 row0\" >0</th>\n",
              "                        <td id=\"T_fb55ca34_2c87_11eb_a68a_0242ac1c0002row0_col0\" class=\"data row0 col0\" >1.000000</td>\n",
              "                        <td id=\"T_fb55ca34_2c87_11eb_a68a_0242ac1c0002row0_col1\" class=\"data row0 col1\" >1.329212</td>\n",
              "                        <td id=\"T_fb55ca34_2c87_11eb_a68a_0242ac1c0002row0_col2\" class=\"data row0 col2\" >nan</td>\n",
              "                        <td id=\"T_fb55ca34_2c87_11eb_a68a_0242ac1c0002row0_col3\" class=\"data row0 col3\" >-0.316280</td>\n",
              "                        <td id=\"T_fb55ca34_2c87_11eb_a68a_0242ac1c0002row0_col4\" class=\"data row0 col4\" >-0.990810</td>\n",
              "            </tr>\n",
              "            <tr>\n",
              "                        <th id=\"T_fb55ca34_2c87_11eb_a68a_0242ac1c0002level0_row1\" class=\"row_heading level0 row1\" >1</th>\n",
              "                        <td id=\"T_fb55ca34_2c87_11eb_a68a_0242ac1c0002row1_col0\" class=\"data row1 col0\" >2.000000</td>\n",
              "                        <td id=\"T_fb55ca34_2c87_11eb_a68a_0242ac1c0002row1_col1\" class=\"data row1 col1\" >-1.070816</td>\n",
              "                        <td id=\"T_fb55ca34_2c87_11eb_a68a_0242ac1c0002row1_col2\" class=\"data row1 col2\" >-1.438713</td>\n",
              "                        <td id=\"T_fb55ca34_2c87_11eb_a68a_0242ac1c0002row1_col3\" class=\"data row1 col3\" >0.564417</td>\n",
              "                        <td id=\"T_fb55ca34_2c87_11eb_a68a_0242ac1c0002row1_col4\" class=\"data row1 col4\" >0.295722</td>\n",
              "            </tr>\n",
              "            <tr>\n",
              "                        <th id=\"T_fb55ca34_2c87_11eb_a68a_0242ac1c0002level0_row2\" class=\"row_heading level0 row2\" >2</th>\n",
              "                        <td id=\"T_fb55ca34_2c87_11eb_a68a_0242ac1c0002row2_col0\" class=\"data row2 col0\" >3.000000</td>\n",
              "                        <td id=\"T_fb55ca34_2c87_11eb_a68a_0242ac1c0002row2_col1\" class=\"data row2 col1\" >-1.626404</td>\n",
              "                        <td id=\"T_fb55ca34_2c87_11eb_a68a_0242ac1c0002row2_col2\" class=\"data row2 col2\" >0.219565</td>\n",
              "                        <td id=\"T_fb55ca34_2c87_11eb_a68a_0242ac1c0002row2_col3\" class=\"data row2 col3\" >0.678805</td>\n",
              "                        <td id=\"T_fb55ca34_2c87_11eb_a68a_0242ac1c0002row2_col4\" class=\"data row2 col4\" >1.889273</td>\n",
              "            </tr>\n",
              "            <tr>\n",
              "                        <th id=\"T_fb55ca34_2c87_11eb_a68a_0242ac1c0002level0_row3\" class=\"row_heading level0 row3\" >3</th>\n",
              "                        <td id=\"T_fb55ca34_2c87_11eb_a68a_0242ac1c0002row3_col0\" class=\"data row3 col0\" >4.000000</td>\n",
              "                        <td id=\"T_fb55ca34_2c87_11eb_a68a_0242ac1c0002row3_col1\" class=\"data row3 col1\" >0.961538</td>\n",
              "                        <td id=\"T_fb55ca34_2c87_11eb_a68a_0242ac1c0002row3_col2\" class=\"data row3 col2\" >0.104011</td>\n",
              "                        <td id=\"T_fb55ca34_2c87_11eb_a68a_0242ac1c0002row3_col3\" class=\"data row3 col3\" >nan</td>\n",
              "                        <td id=\"T_fb55ca34_2c87_11eb_a68a_0242ac1c0002row3_col4\" class=\"data row3 col4\" >0.850229</td>\n",
              "            </tr>\n",
              "            <tr>\n",
              "                        <th id=\"T_fb55ca34_2c87_11eb_a68a_0242ac1c0002level0_row4\" class=\"row_heading level0 row4\" >4</th>\n",
              "                        <td id=\"T_fb55ca34_2c87_11eb_a68a_0242ac1c0002row4_col0\" class=\"data row4 col0\" >5.000000</td>\n",
              "                        <td id=\"T_fb55ca34_2c87_11eb_a68a_0242ac1c0002row4_col1\" class=\"data row4 col1\" >nan</td>\n",
              "                        <td id=\"T_fb55ca34_2c87_11eb_a68a_0242ac1c0002row4_col2\" class=\"data row4 col2\" >1.057737</td>\n",
              "                        <td id=\"T_fb55ca34_2c87_11eb_a68a_0242ac1c0002row4_col3\" class=\"data row4 col3\" >0.165562</td>\n",
              "                        <td id=\"T_fb55ca34_2c87_11eb_a68a_0242ac1c0002row4_col4\" class=\"data row4 col4\" >0.515018</td>\n",
              "            </tr>\n",
              "            <tr>\n",
              "                        <th id=\"T_fb55ca34_2c87_11eb_a68a_0242ac1c0002level0_row5\" class=\"row_heading level0 row5\" >5</th>\n",
              "                        <td id=\"T_fb55ca34_2c87_11eb_a68a_0242ac1c0002row5_col0\" class=\"data row5 col0\" >6.000000</td>\n",
              "                        <td id=\"T_fb55ca34_2c87_11eb_a68a_0242ac1c0002row5_col1\" class=\"data row5 col1\" >-1.336936</td>\n",
              "                        <td id=\"T_fb55ca34_2c87_11eb_a68a_0242ac1c0002row5_col2\" class=\"data row5 col2\" >0.562861</td>\n",
              "                        <td id=\"T_fb55ca34_2c87_11eb_a68a_0242ac1c0002row5_col3\" class=\"data row5 col3\" >1.392855</td>\n",
              "                        <td id=\"T_fb55ca34_2c87_11eb_a68a_0242ac1c0002row5_col4\" class=\"data row5 col4\" >-0.063328</td>\n",
              "            </tr>\n",
              "            <tr>\n",
              "                        <th id=\"T_fb55ca34_2c87_11eb_a68a_0242ac1c0002level0_row6\" class=\"row_heading level0 row6\" >6</th>\n",
              "                        <td id=\"T_fb55ca34_2c87_11eb_a68a_0242ac1c0002row6_col0\" class=\"data row6 col0\" >7.000000</td>\n",
              "                        <td id=\"T_fb55ca34_2c87_11eb_a68a_0242ac1c0002row6_col1\" class=\"data row6 col1\" >0.121668</td>\n",
              "                        <td id=\"T_fb55ca34_2c87_11eb_a68a_0242ac1c0002row6_col2\" class=\"data row6 col2\" >1.207603</td>\n",
              "                        <td id=\"T_fb55ca34_2c87_11eb_a68a_0242ac1c0002row6_col3\" class=\"data row6 col3\" >-0.002040</td>\n",
              "                        <td id=\"T_fb55ca34_2c87_11eb_a68a_0242ac1c0002row6_col4\" class=\"data row6 col4\" >1.627796</td>\n",
              "            </tr>\n",
              "            <tr>\n",
              "                        <th id=\"T_fb55ca34_2c87_11eb_a68a_0242ac1c0002level0_row7\" class=\"row_heading level0 row7\" >7</th>\n",
              "                        <td id=\"T_fb55ca34_2c87_11eb_a68a_0242ac1c0002row7_col0\" class=\"data row7 col0\" >8.000000</td>\n",
              "                        <td id=\"T_fb55ca34_2c87_11eb_a68a_0242ac1c0002row7_col1\" class=\"data row7 col1\" >0.354493</td>\n",
              "                        <td id=\"T_fb55ca34_2c87_11eb_a68a_0242ac1c0002row7_col2\" class=\"data row7 col2\" >1.037528</td>\n",
              "                        <td id=\"T_fb55ca34_2c87_11eb_a68a_0242ac1c0002row7_col3\" class=\"data row7 col3\" >-0.385684</td>\n",
              "                        <td id=\"T_fb55ca34_2c87_11eb_a68a_0242ac1c0002row7_col4\" class=\"data row7 col4\" >0.519818</td>\n",
              "            </tr>\n",
              "            <tr>\n",
              "                        <th id=\"T_fb55ca34_2c87_11eb_a68a_0242ac1c0002level0_row8\" class=\"row_heading level0 row8\" >8</th>\n",
              "                        <td id=\"T_fb55ca34_2c87_11eb_a68a_0242ac1c0002row8_col0\" class=\"data row8 col0\" >9.000000</td>\n",
              "                        <td id=\"T_fb55ca34_2c87_11eb_a68a_0242ac1c0002row8_col1\" class=\"data row8 col1\" >1.686583</td>\n",
              "                        <td id=\"T_fb55ca34_2c87_11eb_a68a_0242ac1c0002row8_col2\" class=\"data row8 col2\" >-1.325963</td>\n",
              "                        <td id=\"T_fb55ca34_2c87_11eb_a68a_0242ac1c0002row8_col3\" class=\"data row8 col3\" >1.428984</td>\n",
              "                        <td id=\"T_fb55ca34_2c87_11eb_a68a_0242ac1c0002row8_col4\" class=\"data row8 col4\" >-2.089354</td>\n",
              "            </tr>\n",
              "            <tr>\n",
              "                        <th id=\"T_fb55ca34_2c87_11eb_a68a_0242ac1c0002level0_row9\" class=\"row_heading level0 row9\" >9</th>\n",
              "                        <td id=\"T_fb55ca34_2c87_11eb_a68a_0242ac1c0002row9_col0\" class=\"data row9 col0\" >10.000000</td>\n",
              "                        <td id=\"T_fb55ca34_2c87_11eb_a68a_0242ac1c0002row9_col1\" class=\"data row9 col1\" >-0.129820</td>\n",
              "                        <td id=\"T_fb55ca34_2c87_11eb_a68a_0242ac1c0002row9_col2\" class=\"data row9 col2\" >0.631523</td>\n",
              "                        <td id=\"T_fb55ca34_2c87_11eb_a68a_0242ac1c0002row9_col3\" class=\"data row9 col3\" >-0.586538</td>\n",
              "                        <td id=\"T_fb55ca34_2c87_11eb_a68a_0242ac1c0002row9_col4\" class=\"data row9 col4\" >nan</td>\n",
              "            </tr>\n",
              "    </tbody></table>"
            ],
            "text/plain": [
              "<pandas.io.formats.style.Styler at 0x7f8e4544cf28>"
            ]
          },
          "metadata": {
            "tags": []
          },
          "execution_count": 15
        }
      ]
    },
    {
      "cell_type": "code",
      "metadata": {
        "colab": {
          "base_uri": "https://localhost:8080/"
        },
        "id": "pTKE4aBDifkf",
        "outputId": "86d99a60-3e4f-485b-a7b3-3e67052000a2"
      },
      "source": [
        "#8\n",
        "\"\"\"Write a Pandas program to split the following dataset using group by on 'salesman_id' and find the first order date for each group.\n",
        "\n",
        "Test Data:\n",
        "\n",
        "    ord_no  purch_amt    ord_date  customer_id  salesman_id\n",
        "0    70001     150.50  2012-10-05         3002         5002\n",
        "1    70009     270.65  2012-09-10         3001         5003\n",
        "2    70002      65.26  2012-10-05         3001         5001\n",
        "3    70004     110.50  2012-08-17         3003         5003\n",
        "4    70007     948.50  2012-09-10         3002         5002\n",
        "5    70005    2400.60  2012-07-27         3002         5001\n",
        "6    70008    5760.00  2012-09-10         3001         5001\n",
        "7    70010    1983.43  2012-10-10         3004         5003\n",
        "8    70003    2480.40  2012-10-10         3003         5003\n",
        "9    70012     250.45  2012-06-27         3002         5002\n",
        "10   70011      75.29  2012-08-17         3003         5003\n",
        "11   70013    3045.60  2012-04-25         3001         5001\"\"\"\n",
        "import pandas as pd\n",
        "pd.set_option('display.max_rows', None)\n",
        "#pd.set_option('display.max_columns', None)\n",
        "df = pd.DataFrame({\n",
        "'ord_no':[70001,70009,70002,70004,70007,70005,70008,70010,70003,70012,70011,70013],\n",
        "'purch_amt':[150.5,270.65,65.26,110.5,948.5,2400.6,5760,1983.43,2480.4,250.45, 75.29,3045.6],\n",
        "'ord_date': ['2012-10-05','2012-09-10','2012-10-05','2012-08-17','2012-09-10','2012-07-27','2012-09-10','2012-10-10','2012-10-10','2012-06-27','2012-08-17','2012-04-25'],\n",
        "'customer_id':[3005,3001,3002,3009,3005,3007,3002,3004,3009,3008,3003,3002],\n",
        "'salesman_id': [5002,5005,5001,5003,5002,5001,5001,5004,5003,5002,5004,5001]})\n",
        "print(\"Original Orders DataFrame:\")\n",
        "print(df)\n",
        "print(\"\\nGroupby to find first order date for each group(salesman_id):\")\n",
        "result = df.groupby('salesman_id')['ord_date'].min()\n",
        "print(result)"
      ],
      "execution_count": 16,
      "outputs": [
        {
          "output_type": "stream",
          "text": [
            "Original Orders DataFrame:\n",
            "    ord_no  purch_amt    ord_date  customer_id  salesman_id\n",
            "0    70001     150.50  2012-10-05         3005         5002\n",
            "1    70009     270.65  2012-09-10         3001         5005\n",
            "2    70002      65.26  2012-10-05         3002         5001\n",
            "3    70004     110.50  2012-08-17         3009         5003\n",
            "4    70007     948.50  2012-09-10         3005         5002\n",
            "5    70005    2400.60  2012-07-27         3007         5001\n",
            "6    70008    5760.00  2012-09-10         3002         5001\n",
            "7    70010    1983.43  2012-10-10         3004         5004\n",
            "8    70003    2480.40  2012-10-10         3009         5003\n",
            "9    70012     250.45  2012-06-27         3008         5002\n",
            "10   70011      75.29  2012-08-17         3003         5004\n",
            "11   70013    3045.60  2012-04-25         3002         5001\n",
            "\n",
            "Groupby to find first order date for each group(salesman_id):\n",
            "salesman_id\n",
            "5001    2012-04-25\n",
            "5002    2012-06-27\n",
            "5003    2012-08-17\n",
            "5004    2012-08-17\n",
            "5005    2012-09-10\n",
            "Name: ord_date, dtype: object\n"
          ],
          "name": "stdout"
        }
      ]
    },
    {
      "cell_type": "code",
      "metadata": {
        "colab": {
          "base_uri": "https://localhost:8080/"
        },
        "id": "sJmKZ1kniyiD",
        "outputId": "37a4df9b-5f98-492d-c1fb-821db7a95f10"
      },
      "source": [
        "\n",
        "#3.Write a Pandas program to create\n",
        "#a) Datetime object for Jan 15 2012.\n",
        "#b) Specific date and time of 9:20 pm.\n",
        "#c) Local date and time.\n",
        "#d) A date without time.\n",
        "#e) Current date.\n",
        "#f) Time from a datetime.\n",
        "#g) Current local time.\n",
        "import datetime\n",
        "from datetime import datetime\n",
        "print(\"Datetime object for Jan 11 2012:\")\n",
        "print(datetime(2012, 1, 11))\n",
        "print(\"\\nSpecific date and time of 9:20 pm\") \n",
        "print(datetime(2011, 1, 11, 21, 20))\n",
        "print(\"\\nLocal date and time:\")\n",
        "print(datetime.now())\n",
        "print(\"\\nA date without time: \")\n",
        "print(datetime.date(datetime(2012, 5, 22)))\n",
        "print(\"\\nCurrent date:\")\n",
        "print(datetime.now().date())\n",
        "print(\"\\nTime from a datetime:\")\n",
        "print(datetime.time(datetime(2012, 12, 15, 18, 12)))\n",
        "print(\"\\nCurrent local time:\") \n",
        "print(datetime.now().time())"
      ],
      "execution_count": 17,
      "outputs": [
        {
          "output_type": "stream",
          "text": [
            "Datetime object for Jan 11 2012:\n",
            "2012-01-11 00:00:00\n",
            "\n",
            "Specific date and time of 9:20 pm\n",
            "2011-01-11 21:20:00\n",
            "\n",
            "Local date and time:\n",
            "2020-11-22 06:02:00.627865\n",
            "\n",
            "A date without time: \n",
            "2012-05-22\n",
            "\n",
            "Current date:\n",
            "2020-11-22\n",
            "\n",
            "Time from a datetime:\n",
            "18:12:00\n",
            "\n",
            "Current local time:\n",
            "06:02:00.628551\n"
          ],
          "name": "stdout"
        }
      ]
    },
    {
      "cell_type": "code",
      "metadata": {
        "colab": {
          "base_uri": "https://localhost:8080/"
        },
        "id": "SNzW5VMai4va",
        "outputId": "ebe35c69-e314-48a5-bdf5-2a98d06fe235"
      },
      "source": [
        "#4.Write a Pandas program to extract only phone number from the specified column of a given DataFrame.\n",
        "import pandas as pd\n",
        "import re as re\n",
        "pd.set_option('display.max_columns', 10)\n",
        "df = pd.DataFrame({\n",
        "    'company_code': ['c0001','c0002','c0003', 'c0003', 'c0004'],\n",
        "    'company_phone_no': ['Company1-Phone no. 4695168357','Company2-Phone no. 8088729013','Company3-Phone no. 6204658086', 'Company4-Phone no. 5159530096', 'Company5-Phone no. 9037952371']\n",
        "    })\n",
        "print(\"Original DataFrame:\")\n",
        "print(df)\n",
        "def find_phone_number(text):\n",
        "    ph_no = re.findall(r\"\\b\\d{10}\\b\",text)\n",
        "    return \"\".join(ph_no)\n",
        "df['number']=df['company_phone_no'].apply(lambda x: find_phone_number(x))\n",
        "print(\"\\Extracting numbers from dataframe columns:\")\n",
        "print(df)"
      ],
      "execution_count": 18,
      "outputs": [
        {
          "output_type": "stream",
          "text": [
            "Original DataFrame:\n",
            "  company_code               company_phone_no\n",
            "0        c0001  Company1-Phone no. 4695168357\n",
            "1        c0002  Company2-Phone no. 8088729013\n",
            "2        c0003  Company3-Phone no. 6204658086\n",
            "3        c0003  Company4-Phone no. 5159530096\n",
            "4        c0004  Company5-Phone no. 9037952371\n",
            "\\Extracting numbers from dataframe columns:\n",
            "  company_code               company_phone_no      number\n",
            "0        c0001  Company1-Phone no. 4695168357  4695168357\n",
            "1        c0002  Company2-Phone no. 8088729013  8088729013\n",
            "2        c0003  Company3-Phone no. 6204658086  6204658086\n",
            "3        c0003  Company4-Phone no. 5159530096  5159530096\n",
            "4        c0004  Company5-Phone no. 9037952371  9037952371\n"
          ],
          "name": "stdout"
        }
      ]
    },
    {
      "cell_type": "code",
      "metadata": {
        "colab": {
          "base_uri": "https://localhost:8080/"
        },
        "id": "p0NMR-_5jBPA",
        "outputId": "463947da-281d-4a1a-9acc-a3668191fc66"
      },
      "source": [
        "#5.Program to iterate over rows in a DataFrame.\n",
        "import pandas as pd\n",
        "import numpy as np\n",
        "exam_data = [{'name':'Anastasia', 'score':12.5}, {'name':'Dima','score':9}, {'name':'Katherine','score':16.5}]\n",
        "df = pd.DataFrame(exam_data)\n",
        "for index, row in df.iterrows():\n",
        "    print(row['name'], row['score'])"
      ],
      "execution_count": 20,
      "outputs": [
        {
          "output_type": "stream",
          "text": [
            "Anastasia 12.5\n",
            "Dima 9.0\n",
            "Katherine 16.5\n"
          ],
          "name": "stdout"
        }
      ]
    },
    {
      "cell_type": "code",
      "metadata": {
        "colab": {
          "base_uri": "https://localhost:8080/"
        },
        "id": "yemOLm0ejNLd",
        "outputId": "60e2c382-f2cd-4cd2-e468-c4d61ac582ba"
      },
      "source": [
        "\n",
        "#6.Program to add, subtract, multiple and divide two Pandas Series.\n",
        "import pandas as pd\n",
        "ds1 = pd.Series([2, 4, 6, 8, 10])\n",
        "ds2 = pd.Series([1, 3, 5, 7, 9])\n",
        "ds = ds1 + ds2\n",
        "print(\"Add two Series:\")\n",
        "print(ds)\n",
        "print(\"Subtract two Series:\")\n",
        "ds = ds1 - ds2\n",
        "print(ds)\n",
        "print(\"Multiply two Series:\")\n",
        "ds = ds1 * ds2\n",
        "print(ds)\n",
        "print(\"Divide Series1 by Series2:\")\n",
        "ds = ds1 / ds2\n",
        "print(ds)"
      ],
      "execution_count": 21,
      "outputs": [
        {
          "output_type": "stream",
          "text": [
            "Add two Series:\n",
            "0     3\n",
            "1     7\n",
            "2    11\n",
            "3    15\n",
            "4    19\n",
            "dtype: int64\n",
            "Subtract two Series:\n",
            "0    1\n",
            "1    1\n",
            "2    1\n",
            "3    1\n",
            "4    1\n",
            "dtype: int64\n",
            "Multiply two Series:\n",
            "0     2\n",
            "1    12\n",
            "2    30\n",
            "3    56\n",
            "4    90\n",
            "dtype: int64\n",
            "Divide Series1 by Series2:\n",
            "0    2.000000\n",
            "1    1.333333\n",
            "2    1.200000\n",
            "3    1.142857\n",
            "4    1.111111\n",
            "dtype: float64\n"
          ],
          "name": "stdout"
        }
      ]
    },
    {
      "cell_type": "code",
      "metadata": {
        "colab": {
          "base_uri": "https://localhost:8080/"
        },
        "id": "lP-ZbgFLjTLm",
        "outputId": "564f6b1c-2566-4160-cbbb-5a474a15514c"
      },
      "source": [
        "#7\n",
        "\"\"\"Write a Pandas program to find and replace the missing values in a given DataFrame which do not have any valuable information.\n",
        "\n",
        "Example:\n",
        "Missing values: ?, --\n",
        "Replace those values with NaN\n",
        "\n",
        "Test Data:\n",
        "\n",
        "   ord_no purch_amt    ord_date customer_id salesman_id\n",
        "0   70001     150.5           ?        3002        5002\n",
        "1     NaN    270.65  2012-09-10        3001        5003\n",
        "2   70002     65.26         NaN        3001           ?\n",
        "3   70004     110.5  2012-08-17        3003        5001\n",
        "4     NaN     948.5  2012-09-10        3002         NaN\n",
        "5   70005    2400.6  2012-07-27        3001        5002\n",
        "6      --      5760  2012-09-10        3001        5001\n",
        "7   70010         ?  2012-10-10        3004           ?\n",
        "8   70003     12.43  2012-10-10          --        5003\n",
        "9   70012    2480.4  2012-06-27        3002        5002\n",
        "10    NaN    250.45  2012-08-17        3001        5003\n",
        "11  70013    3045.6  2012-04-25        3001          --   \"\"\"\n",
        "import numpy as np\n",
        "pd.set_option('display.max_rows', None)\n",
        "#pd.set_option('display.max_columns', None)\n",
        "df = pd.DataFrame({\n",
        "'ord_no':[70001,np.nan,70002,70004,np.nan,70005,\"--\",70010,70003,70012,np.nan,70013],\n",
        "'purch_amt':[150.5,270.65,65.26,110.5,948.5,2400.6,5760,\"?\",12.43,2480.4,250.45, 3045.6],\n",
        "'ord_date': ['?','2012-09-10',np.nan,'2012-08-17','2012-09-10','2012-07-27','2012-09-10','2012-10-10','2012-10-10','2012-06-27','2012-08-17','2012-04-25'],\n",
        "'customer_id':[3002,3001,3001,3003,3002,3001,3001,3004,\"--\",3002,3001,3001],\n",
        "'salesman_id':[5002,5003,\"?\",5001,np.nan,5002,5001,\"?\",5003,5002,5003,\"--\"]})\n",
        "print(\"Original Orders DataFrame:\")\n",
        "print(df)\n",
        "print(\"\\nReplace the missing values with NaN:\")\n",
        "result = df.replace({\"?\": np.nan, \"--\": np.nan})\n",
        "print(result)"
      ],
      "execution_count": 22,
      "outputs": [
        {
          "output_type": "stream",
          "text": [
            "Original Orders DataFrame:\n",
            "   ord_no purch_amt    ord_date customer_id salesman_id\n",
            "0   70001     150.5           ?        3002        5002\n",
            "1     NaN    270.65  2012-09-10        3001        5003\n",
            "2   70002     65.26         NaN        3001           ?\n",
            "3   70004     110.5  2012-08-17        3003        5001\n",
            "4     NaN     948.5  2012-09-10        3002         NaN\n",
            "5   70005    2400.6  2012-07-27        3001        5002\n",
            "6      --      5760  2012-09-10        3001        5001\n",
            "7   70010         ?  2012-10-10        3004           ?\n",
            "8   70003     12.43  2012-10-10          --        5003\n",
            "9   70012    2480.4  2012-06-27        3002        5002\n",
            "10    NaN    250.45  2012-08-17        3001        5003\n",
            "11  70013    3045.6  2012-04-25        3001          --\n",
            "\n",
            "Replace the missing values with NaN:\n",
            "     ord_no  purch_amt    ord_date  customer_id  salesman_id\n",
            "0   70001.0     150.50         NaN       3002.0       5002.0\n",
            "1       NaN     270.65  2012-09-10       3001.0       5003.0\n",
            "2   70002.0      65.26         NaN       3001.0          NaN\n",
            "3   70004.0     110.50  2012-08-17       3003.0       5001.0\n",
            "4       NaN     948.50  2012-09-10       3002.0          NaN\n",
            "5   70005.0    2400.60  2012-07-27       3001.0       5002.0\n",
            "6       NaN    5760.00  2012-09-10       3001.0       5001.0\n",
            "7   70010.0        NaN  2012-10-10       3004.0          NaN\n",
            "8   70003.0      12.43  2012-10-10          NaN       5003.0\n",
            "9   70012.0    2480.40  2012-06-27       3002.0       5002.0\n",
            "10      NaN     250.45  2012-08-17       3001.0       5003.0\n",
            "11  70013.0    3045.60  2012-04-25       3001.0          NaN\n"
          ],
          "name": "stdout"
        }
      ]
    },
    {
      "cell_type": "code",
      "metadata": {
        "colab": {
          "base_uri": "https://localhost:8080/"
        },
        "id": "aTQ1ISZajeK4",
        "outputId": "63042bf8-80f7-4f20-cc6b-c4df0a77fc4d"
      },
      "source": [
        "#8\n",
        "dict = {\"country\": [\"Brazil\", \"Russia\", \"India\", \"China\", \"South Africa\"],\n",
        "       \"capital\": [\"Brasilia\", \"Moscow\", \"New Dehli\", \"Beijing\", \"Pretoria\"],\n",
        "       \"area\": [8.516, 17.10, 3.286, 9.597, 1.221],\n",
        "       \"population\": [200.4, 143.5, 1252, 1357, 52.98] }\n",
        "\n",
        "import pandas as pd\n",
        "brics = pd.DataFrame(dict)\n",
        "print(brics)"
      ],
      "execution_count": 23,
      "outputs": [
        {
          "output_type": "stream",
          "text": [
            "        country    capital    area  population\n",
            "0        Brazil   Brasilia   8.516      200.40\n",
            "1        Russia     Moscow  17.100      143.50\n",
            "2         India  New Dehli   3.286     1252.00\n",
            "3         China    Beijing   9.597     1357.00\n",
            "4  South Africa   Pretoria   1.221       52.98\n"
          ],
          "name": "stdout"
        }
      ]
    },
    {
      "cell_type": "code",
      "metadata": {
        "colab": {
          "base_uri": "https://localhost:8080/"
        },
        "id": "6CN16JdQl7vM",
        "outputId": "ff0d03d4-b29f-4af2-d18c-191f6df91b30"
      },
      "source": [
        "#9.Program to Combine two DataFrame objects by filling null values in one DataFrame with non-null values from other DataFrame.\n",
        "import pandas as pd\n",
        "df1 = pd.DataFrame({'A': [None, 0, None], 'B': [3, 4, 5]})\n",
        "df2 = pd.DataFrame({'A': [1, 1, 3], 'B': [3, None, 3]})\n",
        "df1.combine_first(df2)\n",
        "print(\"Original DataFrames:\")\n",
        "print(df1)\n",
        "print(\"--------------------\")\n",
        "print(df2)\n",
        "print(\"\\nMerge two dataframes with different columns:\")\n",
        "result = df1.combine_first(df2)\n",
        "print(result)\n"
      ],
      "execution_count": 24,
      "outputs": [
        {
          "output_type": "stream",
          "text": [
            "Original DataFrames:\n",
            "     A  B\n",
            "0  NaN  3\n",
            "1  0.0  4\n",
            "2  NaN  5\n",
            "--------------------\n",
            "   A    B\n",
            "0  1  3.0\n",
            "1  1  NaN\n",
            "2  3  3.0\n",
            "\n",
            "Merge two dataframes with different columns:\n",
            "     A  B\n",
            "0  1.0  3\n",
            "1  0.0  4\n",
            "2  3.0  5\n"
          ],
          "name": "stdout"
        }
      ]
    },
    {
      "cell_type": "code",
      "metadata": {
        "colab": {
          "base_uri": "https://localhost:8080/"
        },
        "id": "7AnnWC9QmChS",
        "outputId": "615bb887-0a78-4836-e0a3-5d56a718279c"
      },
      "source": [
        "\n",
        "#10.Program to start index with different value rather than 0 in a given DataFrame.\n",
        "import pandas as pd\n",
        "df = pd.DataFrame({\n",
        "    'school_code': ['s001','s002','s003','s001','s002','s004'],\n",
        "    'class': ['V', 'V', 'VI', 'VI', 'V', 'VI'],\n",
        "    'name': ['Alberto Franco','Gino Mcneill','Ryan Parkes', 'Eesha Hinton', 'Gino Mcneill', 'David Parkes'],\n",
        "    'date_of_birth': ['15/05/2002','17/05/2002','16/02/1999','25/09/1998','11/05/2002','15/09/1997'],\n",
        "    'weight': [35, 37, 33, 30, 31, 32]})\n",
        "     \n",
        "print(\"Original DataFrame:\")\n",
        "print(df)\n",
        "print(\"\\nDefault Index Range:\")\n",
        "print(df.index)\n",
        "df.index += 10 \n",
        "print(\"\\nNew Index Range:\")\n",
        "print(df.index)\n",
        "print(\"\\nDataFrame with new index:\")\n",
        "print(df)"
      ],
      "execution_count": 25,
      "outputs": [
        {
          "output_type": "stream",
          "text": [
            "Original DataFrame:\n",
            "  school_code class            name date_of_birth  weight\n",
            "0        s001     V  Alberto Franco    15/05/2002      35\n",
            "1        s002     V    Gino Mcneill    17/05/2002      37\n",
            "2        s003    VI     Ryan Parkes    16/02/1999      33\n",
            "3        s001    VI    Eesha Hinton    25/09/1998      30\n",
            "4        s002     V    Gino Mcneill    11/05/2002      31\n",
            "5        s004    VI    David Parkes    15/09/1997      32\n",
            "\n",
            "Default Index Range:\n",
            "RangeIndex(start=0, stop=6, step=1)\n",
            "\n",
            "New Index Range:\n",
            "RangeIndex(start=10, stop=16, step=1)\n",
            "\n",
            "DataFrame with new index:\n",
            "   school_code class            name date_of_birth  weight\n",
            "10        s001     V  Alberto Franco    15/05/2002      35\n",
            "11        s002     V    Gino Mcneill    17/05/2002      37\n",
            "12        s003    VI     Ryan Parkes    16/02/1999      33\n",
            "13        s001    VI    Eesha Hinton    25/09/1998      30\n",
            "14        s002     V    Gino Mcneill    11/05/2002      31\n",
            "15        s004    VI    David Parkes    15/09/1997      32\n"
          ],
          "name": "stdout"
        }
      ]
    }
  ]
}